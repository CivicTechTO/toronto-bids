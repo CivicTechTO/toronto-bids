{
 "cells": [
  {
   "cell_type": "code",
   "execution_count": 24,
   "outputs": [],
   "source": [
    "import pandas as pd\n",
    "import re\n",
    "from bs4 import BeautifulSoup\n",
    "from pathlib import Path"
   ],
   "metadata": {
    "collapsed": false
   }
  },
  {
   "cell_type": "code",
   "execution_count": 25,
   "outputs": [],
   "source": [
    "results = []"
   ],
   "metadata": {
    "collapsed": false
   }
  },
  {
   "cell_type": "code",
   "execution_count": 26,
   "outputs": [],
   "source": [
    "for folder in Path('data').iterdir():\n",
    "    if folder.is_dir():\n",
    "        for file in folder.iterdir():\n",
    "            if file.suffix == '.html':\n",
    "                dictionary = {'ID': file.parts[1]}\n",
    "                with open(file, 'r') as f:\n",
    "                    soup = BeautifulSoup(f, parser='html5lib')\n",
    "\n",
    "                dictionary['title'] = soup.title.string\n",
    "                try:\n",
    "                    content = soup.find_all('div', class_='postingHeaderContent')[0]\n",
    "                except IndexError:\n",
    "                    print(file)\n",
    "                    continue\n",
    "\n",
    "                with open('temp.html', 'w') as f:\n",
    "                    f.write(str(content))\n",
    "                tables = pd.read_html('temp.html')\n",
    "                for k, v in dict(tables[0].values).items():\n",
    "                    if k == k:\n",
    "                        dictionary[k] = v\n",
    "                dictionary['Product Categories'] = [t.strip() for t in\n",
    "                                                    re.findall('([A-Z][^A-Z]+)', tables[1].loc[0, 0])[3:]]\n",
    "                dictionary['summary'] = content.find_all('div', class_='postingHeaderNormalText postingHeaderPadding')[\n",
    "                    0].text\n",
    "                results.append(dictionary)"
   ],
   "metadata": {
    "collapsed": false
   }
  },
  {
   "cell_type": "code",
   "execution_count": 27,
   "outputs": [],
   "source": [
    "df = pd.DataFrame(results)"
   ],
   "metadata": {
    "collapsed": false
   }
  },
  {
   "cell_type": "code",
   "execution_count": 28,
   "outputs": [],
   "source": [
    "df.to_csv('data_summary.csv')"
   ],
   "metadata": {
    "collapsed": false
   }
  },
  {
   "cell_type": "code",
   "execution_count": 29,
   "outputs": [
    {
     "data": {
      "text/plain": "               ID                                              title  \\\n0   Doc3778035206  Request for Tender for Stormwater Management P...   \n1   Doc3735730008  Request for Supplier Qualifications – Stage On...   \n2   Doc3742825440  Doc3742825440 - Request for Quotation for warr...   \n3   Doc3459854144  Request for Tender for Interior Renovation of ...   \n4   Doc3768751364  RFQ - Vibration Analysis, Infrared Thermograph...   \n..            ...                                                ...   \n77  Doc3711927335  Doc3711927335 - Request for Quotations for Ove...   \n78  Doc3817131258  Request for Quotations for One (1) latest mode...   \n79  Doc3760842012  Request for Quotations for the Supply and Deli...   \n80  Doc3754640010  Request for Tenders for Ashbridges Bay Treatme...   \n81  Doc3817220750  Request for Quotations for the Non-exclusive S...   \n\n                Opportunity Amount: Contract Length:       Response Deadline:  \\\n0   $1,500.00 to $99,000,000.00 CAD         3 months   2 Feb 2023 9:00 AM PST   \n1   $1,000.00 to $99,000,000.00 CAD              NaN   2 Mar 2023 9:04 AM PST   \n2                    $1M to $5M USD        60 months   9 Jan 2023 9:00 AM PST   \n3   $1,500.00 to $99,000,000.00 CAD        12 months  12 Jan 2023 9:00 AM PST   \n4   $1,500.00 to $99,000,000.00 CAD        12 months  4 Jan 2023 11:06 AM PST   \n..                              ...              ...                      ...   \n77                   $1M to $5M USD        60 months   6 Jan 2023 9:00 AM PST   \n78  $1,500.00 to $99,000,000.00 CAD        12 months  16 Feb 2023 9:00 AM PST   \n79  $1,500.00 to $99,000,000.00 CAD              NaN  15 Feb 2023 9:00 AM PST   \n80  $1,500.00 to $99,000,000.00 CAD              NaN  10 Feb 2023 9:00 AM PST   \n81  $1,000.00 to $99,000,000.00 CAD         5 months  10 Feb 2023 9:00 AM PST   \n\n                Posting ID:           Business Contact:  \\\n0   15065970(Doc3778035206)               Sahil Chishti   \n1   15276277(Doc3735730008)                Martin Suits   \n2   14593103(Doc3742825440)                         NaN   \n3   14442779(Doc3459854144)                         NaN   \n4   14942056(Doc3768751364)                         NaN   \n..                      ...                         ...   \n77  14421109(Doc3711927335)                         NaN   \n78  15153831(Doc3817131258)                         NaN   \n79  14942884(Doc3760842012)  Alexandra Mutinelli-Djukic   \n80  14717103(Doc3754640010)                         NaN   \n81  15139380(Doc3817220750)              Tony Kladianos   \n\n              Posting Type:                          Public Posting:  \\\n0   Request for Information  http://discovery.ariba.com/rfx/15065970   \n1     Request for Quotation  http://discovery.ariba.com/rfx/15276277   \n2   Request for Information  http://discovery.ariba.com/rfx/14593103   \n3   Request for Information  http://discovery.ariba.com/rfx/14442779   \n4   Request for Information  http://discovery.ariba.com/rfx/14942056   \n..                      ...                                      ...   \n77  Request for Information  http://discovery.ariba.com/rfx/14421109   \n78  Request for Information  http://discovery.ariba.com/rfx/15153831   \n79    Request for Quotation  http://discovery.ariba.com/rfx/14942884   \n80  Request for Information  http://discovery.ariba.com/rfx/14717103   \n81  Request for Information  http://discovery.ariba.com/rfx/15139380   \n\n                             Company Public Profile: Match Confidence:  \\\n0   http://discovery.ariba.com/profile/AN01050912625                0%   \n1   http://discovery.ariba.com/profile/AN01050912625                0%   \n2                                                NaN               NaN   \n3                                                NaN               NaN   \n4                                                NaN               NaN   \n..                                               ...               ...   \n77                                               NaN               NaN   \n78                                               NaN               NaN   \n79  http://discovery.ariba.com/profile/AN01050912625                0%   \n80                                               NaN               NaN   \n81  http://discovery.ariba.com/profile/AN01050912625                0%   \n\n                                   Product Categories  \\\n0   [Hydroexcavation, Services, Land levelling ser...   \n1   [Government owned parks, Architectural enginee...   \n2      [Manufacturing equipment maintenance services]   \n3   [Foundation or slab work, Sidewalk or curb con...   \n4                               [Vibration analyzers]   \n..                                                ...   \n77  [Door surrounds, Electrical equipment maintena...   \n78  [Truck chassis, All terrain vehicles tracked o...   \n79  [Stationery, Plotter paper, Facsimile paper, K...   \n80  [Service water, Water treatment services, Buil...   \n81  [Mobile homes, Semi trailer, Portable box offi...   \n\n                                              summary  \n0   \\nPlease disregard the Ariba Discovery posting...  \n1   \\nThis Request for Supplier Qualifications (\"R...  \n2   \\nDoc3742825440 - Request for Quotation for wa...  \n3   \\nFor the Interior Renovations of the at Jesse...  \n4   \\nPlease disregard the Ariba Discovery posting...  \n..                                                ...  \n77  \\nDoc3711927335 - Request for Quotations for O...  \n78  \\nThe Scope of this RFQ includes the Supply an...  \n79  \\nThis Request for Quotation is an invitation ...  \n80  \\nThis RFT is for Comprehensive upgrades to th...  \n81  \\nThe non-exclusive supply, delivery, installa...  \n\n[82 rows x 13 columns]",
      "text/html": "<div>\n<style scoped>\n    .dataframe tbody tr th:only-of-type {\n        vertical-align: middle;\n    }\n\n    .dataframe tbody tr th {\n        vertical-align: top;\n    }\n\n    .dataframe thead th {\n        text-align: right;\n    }\n</style>\n<table border=\"1\" class=\"dataframe\">\n  <thead>\n    <tr style=\"text-align: right;\">\n      <th></th>\n      <th>ID</th>\n      <th>title</th>\n      <th>Opportunity Amount:</th>\n      <th>Contract Length:</th>\n      <th>Response Deadline:</th>\n      <th>Posting ID:</th>\n      <th>Business Contact:</th>\n      <th>Posting Type:</th>\n      <th>Public Posting:</th>\n      <th>Company Public Profile:</th>\n      <th>Match Confidence:</th>\n      <th>Product Categories</th>\n      <th>summary</th>\n    </tr>\n  </thead>\n  <tbody>\n    <tr>\n      <th>0</th>\n      <td>Doc3778035206</td>\n      <td>Request for Tender for Stormwater Management P...</td>\n      <td>$1,500.00 to $99,000,000.00 CAD</td>\n      <td>3 months</td>\n      <td>2 Feb 2023 9:00 AM PST</td>\n      <td>15065970(Doc3778035206)</td>\n      <td>Sahil Chishti</td>\n      <td>Request for Information</td>\n      <td>http://discovery.ariba.com/rfx/15065970</td>\n      <td>http://discovery.ariba.com/profile/AN01050912625</td>\n      <td>0%</td>\n      <td>[Hydroexcavation, Services, Land levelling ser...</td>\n      <td>\\nPlease disregard the Ariba Discovery posting...</td>\n    </tr>\n    <tr>\n      <th>1</th>\n      <td>Doc3735730008</td>\n      <td>Request for Supplier Qualifications – Stage On...</td>\n      <td>$1,000.00 to $99,000,000.00 CAD</td>\n      <td>NaN</td>\n      <td>2 Mar 2023 9:04 AM PST</td>\n      <td>15276277(Doc3735730008)</td>\n      <td>Martin Suits</td>\n      <td>Request for Quotation</td>\n      <td>http://discovery.ariba.com/rfx/15276277</td>\n      <td>http://discovery.ariba.com/profile/AN01050912625</td>\n      <td>0%</td>\n      <td>[Government owned parks, Architectural enginee...</td>\n      <td>\\nThis Request for Supplier Qualifications (\"R...</td>\n    </tr>\n    <tr>\n      <th>2</th>\n      <td>Doc3742825440</td>\n      <td>Doc3742825440 - Request for Quotation for warr...</td>\n      <td>$1M to $5M USD</td>\n      <td>60 months</td>\n      <td>9 Jan 2023 9:00 AM PST</td>\n      <td>14593103(Doc3742825440)</td>\n      <td>NaN</td>\n      <td>Request for Information</td>\n      <td>http://discovery.ariba.com/rfx/14593103</td>\n      <td>NaN</td>\n      <td>NaN</td>\n      <td>[Manufacturing equipment maintenance services]</td>\n      <td>\\nDoc3742825440 - Request for Quotation for wa...</td>\n    </tr>\n    <tr>\n      <th>3</th>\n      <td>Doc3459854144</td>\n      <td>Request for Tender for Interior Renovation of ...</td>\n      <td>$1,500.00 to $99,000,000.00 CAD</td>\n      <td>12 months</td>\n      <td>12 Jan 2023 9:00 AM PST</td>\n      <td>14442779(Doc3459854144)</td>\n      <td>NaN</td>\n      <td>Request for Information</td>\n      <td>http://discovery.ariba.com/rfx/14442779</td>\n      <td>NaN</td>\n      <td>NaN</td>\n      <td>[Foundation or slab work, Sidewalk or curb con...</td>\n      <td>\\nFor the Interior Renovations of the at Jesse...</td>\n    </tr>\n    <tr>\n      <th>4</th>\n      <td>Doc3768751364</td>\n      <td>RFQ - Vibration Analysis, Infrared Thermograph...</td>\n      <td>$1,500.00 to $99,000,000.00 CAD</td>\n      <td>12 months</td>\n      <td>4 Jan 2023 11:06 AM PST</td>\n      <td>14942056(Doc3768751364)</td>\n      <td>NaN</td>\n      <td>Request for Information</td>\n      <td>http://discovery.ariba.com/rfx/14942056</td>\n      <td>NaN</td>\n      <td>NaN</td>\n      <td>[Vibration analyzers]</td>\n      <td>\\nPlease disregard the Ariba Discovery posting...</td>\n    </tr>\n    <tr>\n      <th>...</th>\n      <td>...</td>\n      <td>...</td>\n      <td>...</td>\n      <td>...</td>\n      <td>...</td>\n      <td>...</td>\n      <td>...</td>\n      <td>...</td>\n      <td>...</td>\n      <td>...</td>\n      <td>...</td>\n      <td>...</td>\n      <td>...</td>\n    </tr>\n    <tr>\n      <th>77</th>\n      <td>Doc3711927335</td>\n      <td>Doc3711927335 - Request for Quotations for Ove...</td>\n      <td>$1M to $5M USD</td>\n      <td>60 months</td>\n      <td>6 Jan 2023 9:00 AM PST</td>\n      <td>14421109(Doc3711927335)</td>\n      <td>NaN</td>\n      <td>Request for Information</td>\n      <td>http://discovery.ariba.com/rfx/14421109</td>\n      <td>NaN</td>\n      <td>NaN</td>\n      <td>[Door surrounds, Electrical equipment maintena...</td>\n      <td>\\nDoc3711927335 - Request for Quotations for O...</td>\n    </tr>\n    <tr>\n      <th>78</th>\n      <td>Doc3817131258</td>\n      <td>Request for Quotations for One (1) latest mode...</td>\n      <td>$1,500.00 to $99,000,000.00 CAD</td>\n      <td>12 months</td>\n      <td>16 Feb 2023 9:00 AM PST</td>\n      <td>15153831(Doc3817131258)</td>\n      <td>NaN</td>\n      <td>Request for Information</td>\n      <td>http://discovery.ariba.com/rfx/15153831</td>\n      <td>NaN</td>\n      <td>NaN</td>\n      <td>[Truck chassis, All terrain vehicles tracked o...</td>\n      <td>\\nThe Scope of this RFQ includes the Supply an...</td>\n    </tr>\n    <tr>\n      <th>79</th>\n      <td>Doc3760842012</td>\n      <td>Request for Quotations for the Supply and Deli...</td>\n      <td>$1,500.00 to $99,000,000.00 CAD</td>\n      <td>NaN</td>\n      <td>15 Feb 2023 9:00 AM PST</td>\n      <td>14942884(Doc3760842012)</td>\n      <td>Alexandra Mutinelli-Djukic</td>\n      <td>Request for Quotation</td>\n      <td>http://discovery.ariba.com/rfx/14942884</td>\n      <td>http://discovery.ariba.com/profile/AN01050912625</td>\n      <td>0%</td>\n      <td>[Stationery, Plotter paper, Facsimile paper, K...</td>\n      <td>\\nThis Request for Quotation is an invitation ...</td>\n    </tr>\n    <tr>\n      <th>80</th>\n      <td>Doc3754640010</td>\n      <td>Request for Tenders for Ashbridges Bay Treatme...</td>\n      <td>$1,500.00 to $99,000,000.00 CAD</td>\n      <td>NaN</td>\n      <td>10 Feb 2023 9:00 AM PST</td>\n      <td>14717103(Doc3754640010)</td>\n      <td>NaN</td>\n      <td>Request for Information</td>\n      <td>http://discovery.ariba.com/rfx/14717103</td>\n      <td>NaN</td>\n      <td>NaN</td>\n      <td>[Service water, Water treatment services, Buil...</td>\n      <td>\\nThis RFT is for Comprehensive upgrades to th...</td>\n    </tr>\n    <tr>\n      <th>81</th>\n      <td>Doc3817220750</td>\n      <td>Request for Quotations for the Non-exclusive S...</td>\n      <td>$1,000.00 to $99,000,000.00 CAD</td>\n      <td>5 months</td>\n      <td>10 Feb 2023 9:00 AM PST</td>\n      <td>15139380(Doc3817220750)</td>\n      <td>Tony Kladianos</td>\n      <td>Request for Information</td>\n      <td>http://discovery.ariba.com/rfx/15139380</td>\n      <td>http://discovery.ariba.com/profile/AN01050912625</td>\n      <td>0%</td>\n      <td>[Mobile homes, Semi trailer, Portable box offi...</td>\n      <td>\\nThe non-exclusive supply, delivery, installa...</td>\n    </tr>\n  </tbody>\n</table>\n<p>82 rows × 13 columns</p>\n</div>"
     },
     "execution_count": 29,
     "metadata": {},
     "output_type": "execute_result"
    }
   ],
   "source": [
    "df"
   ],
   "metadata": {
    "collapsed": false
   }
  },
  {
   "cell_type": "code",
   "execution_count": null,
   "outputs": [],
   "source": [],
   "metadata": {
    "collapsed": false
   }
  }
 ],
 "metadata": {
  "kernelspec": {
   "display_name": "Python 3",
   "language": "python",
   "name": "python3"
  },
  "language_info": {
   "codemirror_mode": {
    "name": "ipython",
    "version": 2
   },
   "file_extension": ".py",
   "mimetype": "text/x-python",
   "name": "python",
   "nbconvert_exporter": "python",
   "pygments_lexer": "ipython2",
   "version": "2.7.6"
  }
 },
 "nbformat": 4,
 "nbformat_minor": 0
}
