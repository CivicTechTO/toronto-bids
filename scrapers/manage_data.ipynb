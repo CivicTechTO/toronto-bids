{
 "cells": [
  {
   "cell_type": "code",
   "execution_count": 6,
   "outputs": [],
   "source": [
    "import pandas as pd\n",
    "from bs4 import BeautifulSoup\n",
    "from pathlib import Path\n",
    "import re"
   ],
   "metadata": {
    "collapsed": false
   }
  },
  {
   "cell_type": "code",
   "execution_count": 7,
   "outputs": [],
   "source": [
    "results = []"
   ],
   "metadata": {
    "collapsed": false
   }
  },
  {
   "cell_type": "code",
   "execution_count": 8,
   "outputs": [],
   "source": [
    "for folder in Path('data').iterdir():\n",
    "    if folder.is_dir():\n",
    "        for file in folder.iterdir():\n",
    "            if file.suffix == '.html':\n",
    "                dictionary = {'ID':file.parts[1]}\n",
    "                with open(file, 'r') as f:\n",
    "                    soup = BeautifulSoup(f, parser='html5lib')\n",
    "\n",
    "                dictionary['title'] = soup.title.string\n",
    "                content = soup.find_all('div',class_='postingHeaderContent')[0]\n",
    "\n",
    "                with open('temp.html','w') as f:\n",
    "                    f.write(str(content))\n",
    "                tables = pd.read_html('temp.html')\n",
    "                for k,v in dict(tables[0].values).items():\n",
    "                    if k==k:\n",
    "                        dictionary[k] = v\n",
    "                dictionary['Product Categories'] = [t.strip() for t in re.findall('([A-Z][^A-Z]+)', tables[1].loc[0,0])[3:]]\n",
    "                dictionary['summary'] = content.find_all('div',class_='postingHeaderNormalText postingHeaderPadding')[0].text\n",
    "                results.append(dictionary)"
   ],
   "metadata": {
    "collapsed": false
   }
  },
  {
   "cell_type": "code",
   "execution_count": 9,
   "outputs": [],
   "source": [
    "df = pd.DataFrame(results)"
   ],
   "metadata": {
    "collapsed": false
   }
  },
  {
   "cell_type": "code",
   "execution_count": 10,
   "outputs": [],
   "source": [
    "df.to_csv('data_summary.csv')"
   ],
   "metadata": {
    "collapsed": false
   }
  },
  {
   "cell_type": "code",
   "execution_count": null,
   "outputs": [],
   "source": [],
   "metadata": {
    "collapsed": false
   }
  }
 ],
 "metadata": {
  "kernelspec": {
   "display_name": "Python 3",
   "language": "python",
   "name": "python3"
  },
  "language_info": {
   "codemirror_mode": {
    "name": "ipython",
    "version": 2
   },
   "file_extension": ".py",
   "mimetype": "text/x-python",
   "name": "python",
   "nbconvert_exporter": "python",
   "pygments_lexer": "ipython2",
   "version": "2.7.6"
  }
 },
 "nbformat": 4,
 "nbformat_minor": 0
}
