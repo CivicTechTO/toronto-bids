{
 "cells": [
  {
   "cell_type": "code",
   "execution_count": 3,
   "metadata": {
    "collapsed": true
   },
   "outputs": [],
   "source": [
    "from os import system\n",
    "\n",
    "import pathlib\n",
    "import zipfile\n",
    "from pathlib import Path"
   ]
  },
  {
   "cell_type": "code",
   "execution_count": 4,
   "outputs": [],
   "source": [
    "def extract_zip_recursively(zip_file: Path, new_dir: Path):\n",
    "    print(f\"Extracting contents of {zip_file} to {new_dir}\")\n",
    "    with zipfile.ZipFile(zip_file, \"r\") as z:\n",
    "        z.extractall(new_dir)\n",
    "        for name in z.namelist():\n",
    "            if name.endswith(\".zip\"):\n",
    "                nested_zip = new_dir / name\n",
    "                extract_zip_recursively(nested_zip, new_dir)\n",
    "    zip_file.unlink()"
   ],
   "metadata": {
    "collapsed": false
   }
  },
  {
   "cell_type": "code",
   "execution_count": 6,
   "outputs": [],
   "source": [
    "def extract_zips_in_directory(directory: Path):\n",
    "    for path in directory.rglob(\"*.zip\"):\n",
    "        extract_zip_recursively(path, path.parent)\n",
    "\n",
    "extract_zips_in_directory(Path('data'))"
   ],
   "metadata": {
    "collapsed": false
   }
  },
  {
   "cell_type": "code",
   "execution_count": 10,
   "outputs": [],
   "source": [
    "def extract_zip_and_move_html(directory):\n",
    "    directory = pathlib.Path(directory)\n",
    "    for filename in directory.iterdir():\n",
    "        if filename.suffix == \".html\":\n",
    "            html_file = filename\n",
    "            zip_file = filename.with_suffix(\".zip\")\n",
    "\n",
    "            if zip_file.exists():\n",
    "                new_dir = filename.with_suffix(\"\")\n",
    "                print(f\"Creating directory: {new_dir}\")\n",
    "                new_dir.mkdir(parents=True, exist_ok=True)\n",
    "\n",
    "                print(f\"Moving {html_file} to {new_dir / html_file.name}\")\n",
    "                html_file.rename(new_dir / html_file.name)\n",
    "\n",
    "                extract_zip_recursively(zip_file, new_dir)\n",
    "\n",
    "                print(f\"Removing {zip_file}\")\n",
    "                zip_file.unlink()"
   ],
   "metadata": {
    "collapsed": false
   }
  },
  {
   "cell_type": "code",
   "execution_count": 17,
   "outputs": [
    {
     "name": "stdout",
     "output_type": "stream",
     "text": [
      "Creating directory: data/Doc3779534605\n",
      "Moving data/Doc3779534605.html to data/Doc3779534605/Doc3779534605.html\n",
      "Extracting contents of data/Doc3779534605.zip to data/Doc3779534605\n",
      "Removing data/Doc3779534605.zip\n"
     ]
    }
   ],
   "source": [
    "extract_zip_and_move_html('data')"
   ],
   "metadata": {
    "collapsed": false
   }
  },
  {
   "cell_type": "code",
   "execution_count": 9,
   "outputs": [],
   "source": [
    "def recursively_convert(folder):\n",
    "    for file in folder.iterdir():\n",
    "        if file.is_dir():\n",
    "            recursively_convert(file)\n",
    "        if file.suffix.lower() in ['.docx', '.doc']:\n",
    "            system(f'textutil -convert rtf \"{file.as_posix()}\"')\n",
    "            file.unlink()"
   ],
   "metadata": {
    "collapsed": false
   }
  },
  {
   "cell_type": "code",
   "execution_count": 10,
   "outputs": [
    {
     "name": "stderr",
     "output_type": "stream",
     "text": [
      "Error reading data/Doc3751442529/Appendix B - B5/B5 - Guidance Documents/B5-41 - Preliminary Design Preparation/Appendix Templates/AppendixD-RecordData/~-RecordData.docx.  The file doesn’t exist.\n"
     ]
    }
   ],
   "source": [
    "for folder in Path('data').iterdir():\n",
    "    if folder.is_dir():\n",
    "        recursively_convert(folder)"
   ],
   "metadata": {
    "collapsed": false
   }
  },
  {
   "cell_type": "code",
   "execution_count": null,
   "outputs": [],
   "source": [],
   "metadata": {
    "collapsed": false
   }
  }
 ],
 "metadata": {
  "kernelspec": {
   "display_name": "Python 3",
   "language": "python",
   "name": "python3"
  },
  "language_info": {
   "codemirror_mode": {
    "name": "ipython",
    "version": 2
   },
   "file_extension": ".py",
   "mimetype": "text/x-python",
   "name": "python",
   "nbconvert_exporter": "python",
   "pygments_lexer": "ipython2",
   "version": "2.7.6"
  }
 },
 "nbformat": 4,
 "nbformat_minor": 0
}
