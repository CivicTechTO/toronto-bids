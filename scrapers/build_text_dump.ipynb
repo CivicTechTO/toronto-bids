{
 "cells": [
  {
   "cell_type": "code",
   "execution_count": 11,
   "outputs": [],
   "source": [
    "import spacy\n",
    "from PyPDF2 import PdfReader\n",
    "from pathlib import Path\n",
    "from tqdm import tqdm"
   ],
   "metadata": {
    "collapsed": false
   }
  },
  {
   "cell_type": "code",
   "execution_count": 12,
   "outputs": [],
   "source": [
    "nlp = spacy.load('en_core_web_sm')"
   ],
   "metadata": {
    "collapsed": false
   }
  },
  {
   "cell_type": "code",
   "execution_count": 21,
   "outputs": [],
   "source": [
    "def recursively_load_files(folder):\n",
    "    documents = []\n",
    "    for file in folder.iterdir():\n",
    "        if file.is_dir():\n",
    "            documents = documents + recursively_load_files(file)\n",
    "        if file.suffix.lower() == '.pdf':\n",
    "            with open(file, 'rb') as pdf:\n",
    "                pdf = PdfReader(pdf)\n",
    "                for i in range(len(pdf.pages)):\n",
    "                    try:\n",
    "                        documents.append(pdf.pages[i].extract_text())\n",
    "                    except AttributeError as e:\n",
    "                        continue\n",
    "        elif file.suffix.lower() == '.rtf':\n",
    "            with open(file, 'r') as rtf:\n",
    "                documents.append(rtf.read())\n",
    "        elif file.suffix.lower() in ['.xlsx', '.xls', '.docx', '.doc', '.html', '.zip', '.txt']:\n",
    "            continue\n",
    "        return documents"
   ],
   "metadata": {
    "collapsed": false
   }
  },
  {
   "cell_type": "code",
   "execution_count": 22,
   "outputs": [
    {
     "name": "stderr",
     "output_type": "stream",
     "text": [
      " 78%|███████▊  | 66/85 [01:27<00:32,  1.71s/it]Multiple definitions in dictionary at byte 0x7a for key /Subtype\n",
      "Multiple definitions in dictionary at byte 0x7a for key /Subtype\n",
      "Multiple definitions in dictionary at byte 0x1c2 for key /Subtype\n",
      "Multiple definitions in dictionary at byte 0x7a for key /Subtype\n",
      "Multiple definitions in dictionary at byte 0x1c2 for key /Subtype\n",
      "Multiple definitions in dictionary at byte 0x7a for key /Subtype\n",
      "Multiple definitions in dictionary at byte 0x1c2 for key /Subtype\n",
      "Multiple definitions in dictionary at byte 0x7a for key /Subtype\n",
      "Multiple definitions in dictionary at byte 0x1c2 for key /Subtype\n",
      "Multiple definitions in dictionary at byte 0x7a for key /Subtype\n",
      "Multiple definitions in dictionary at byte 0x1c2 for key /Subtype\n",
      "Multiple definitions in dictionary at byte 0x7a for key /Subtype\n",
      "Multiple definitions in dictionary at byte 0x1c2 for key /Subtype\n",
      "Multiple definitions in dictionary at byte 0x7d for key /Subtype\n",
      "Multiple definitions in dictionary at byte 0x7a for key /Subtype\n",
      "Multiple definitions in dictionary at byte 0x1be for key /Subtype\n",
      "Multiple definitions in dictionary at byte 0x7a for key /Subtype\n",
      "Multiple definitions in dictionary at byte 0x1be for key /Subtype\n",
      "Multiple definitions in dictionary at byte 0x7a for key /Subtype\n",
      "Multiple definitions in dictionary at byte 0x1be for key /Subtype\n",
      "Multiple definitions in dictionary at byte 0x7a for key /Subtype\n",
      "Multiple definitions in dictionary at byte 0x1be for key /Subtype\n",
      "Multiple definitions in dictionary at byte 0x7a for key /Subtype\n",
      "Multiple definitions in dictionary at byte 0x1be for key /Subtype\n",
      "Multiple definitions in dictionary at byte 0x7a for key /Subtype\n",
      "Multiple definitions in dictionary at byte 0x1be for key /Subtype\n",
      "Multiple definitions in dictionary at byte 0x7a for key /Subtype\n",
      "Multiple definitions in dictionary at byte 0x1be for key /Subtype\n",
      "Multiple definitions in dictionary at byte 0x7a for key /Subtype\n",
      "Multiple definitions in dictionary at byte 0x1be for key /Subtype\n",
      "Multiple definitions in dictionary at byte 0x7a for key /Subtype\n",
      "Multiple definitions in dictionary at byte 0x1be for key /Subtype\n",
      "Multiple definitions in dictionary at byte 0x7a for key /Subtype\n",
      "Multiple definitions in dictionary at byte 0x1be for key /Subtype\n",
      "Multiple definitions in dictionary at byte 0x7a for key /Subtype\n",
      "Multiple definitions in dictionary at byte 0x1be for key /Subtype\n",
      "Multiple definitions in dictionary at byte 0x7a for key /Subtype\n",
      "Multiple definitions in dictionary at byte 0x1be for key /Subtype\n",
      "Multiple definitions in dictionary at byte 0x7a for key /Subtype\n",
      "Multiple definitions in dictionary at byte 0x1be for key /Subtype\n",
      "Multiple definitions in dictionary at byte 0x7a for key /Subtype\n",
      "Multiple definitions in dictionary at byte 0x1be for key /Subtype\n",
      "Multiple definitions in dictionary at byte 0x7a for key /Subtype\n",
      "Multiple definitions in dictionary at byte 0x1be for key /Subtype\n",
      "Multiple definitions in dictionary at byte 0x7a for key /Subtype\n",
      "Multiple definitions in dictionary at byte 0x1be for key /Subtype\n",
      "Multiple definitions in dictionary at byte 0x7a for key /Subtype\n",
      "Multiple definitions in dictionary at byte 0x1be for key /Subtype\n",
      "Multiple definitions in dictionary at byte 0x7a for key /Subtype\n",
      "Multiple definitions in dictionary at byte 0x1be for key /Subtype\n",
      "Multiple definitions in dictionary at byte 0x7a for key /Subtype\n",
      "Multiple definitions in dictionary at byte 0x1be for key /Subtype\n",
      "Multiple definitions in dictionary at byte 0x7a for key /Subtype\n",
      "Multiple definitions in dictionary at byte 0x1be for key /Subtype\n",
      "Multiple definitions in dictionary at byte 0x7a for key /Subtype\n",
      "Multiple definitions in dictionary at byte 0x1c2 for key /Subtype\n",
      "100%|██████████| 85/85 [02:03<00:00,  1.45s/it]\n"
     ]
    }
   ],
   "source": [
    "root = Path('data')\n",
    "for folder in tqdm(root.iterdir(), total=len([i for i in root.iterdir()])):\n",
    "    if not folder.is_dir():\n",
    "        continue\n",
    "    # if Path.joinpath(folder,'parsed_text.txt').exists():\n",
    "    #     continue\n",
    "    documents = recursively_load_files(folder)\n",
    "    parsed_documents = []\n",
    "    for document in nlp.pipe(documents):\n",
    "        parsed_documents.append(document.text)\n",
    "\n",
    "    with open(Path.joinpath(folder, 'parsed_text.txt'), 'w') as f:\n",
    "        f.write(\"\\n\".join(parsed_documents))\n"
   ],
   "metadata": {
    "collapsed": false
   }
  },
  {
   "cell_type": "code",
   "execution_count": null,
   "outputs": [],
   "source": [],
   "metadata": {
    "collapsed": false
   }
  }
 ],
 "metadata": {
  "kernelspec": {
   "display_name": "Python 3",
   "language": "python",
   "name": "python3"
  },
  "language_info": {
   "codemirror_mode": {
    "name": "ipython",
    "version": 2
   },
   "file_extension": ".py",
   "mimetype": "text/x-python",
   "name": "python",
   "nbconvert_exporter": "python",
   "pygments_lexer": "ipython2",
   "version": "2.7.6"
  }
 },
 "nbformat": 4,
 "nbformat_minor": 0
}
