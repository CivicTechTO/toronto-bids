{
 "cells": [
  {
   "cell_type": "code",
   "execution_count": 1,
   "id": "6acd8d44-b195-441b-b602-ebeb9c7f40b6",
   "metadata": {},
   "outputs": [],
   "source": [
    "import datetime as dt\n",
    "import pandas as pd\n",
    "import re\n",
    "from pathlib import Path\n",
    "from selenium.webdriver.chrome.service import Service as ChromeService\n",
    "from selenium.webdriver.common.by import By\n",
    "from selenium.webdriver.support import expected_conditions as EC\n",
    "from selenium.webdriver.support.wait import WebDriverWait\n",
    "from seleniumwire import webdriver\n",
    "from time import sleep\n",
    "from webdriver_manager.chrome import ChromeDriverManager\n",
    "\n",
    "DOWNLOAD_DIRECTORY = Path('/Users/alex/Downloads')\n",
    "REPO_DIRECTORY = '/Users/alex/repos/toronto-bids/scrapers'"
   ]
  },
  {
   "cell_type": "code",
   "execution_count": 2,
   "outputs": [
    {
     "name": "stderr",
     "output_type": "stream",
     "text": [
      "[WDM] - Downloading: 100%|██████████| 8.72M/8.72M [00:00<00:00, 21.4MB/s]\n"
     ]
    }
   ],
   "source": [
    "driver = webdriver.Chrome(service=ChromeService(ChromeDriverManager().install()))"
   ],
   "metadata": {
    "collapsed": false
   }
  },
  {
   "cell_type": "code",
   "execution_count": 3,
   "id": "7de67de4-3631-4a29-9f08-fac6757ef0fb",
   "metadata": {},
   "outputs": [],
   "source": [
    "driver.get(\"https://service.ariba.com/Discovery.aw/ad/profile?key=AN01050912625#b0\")"
   ]
  },
  {
   "cell_type": "code",
   "execution_count": 4,
   "outputs": [],
   "source": [
    "df = pd.read_csv('data_summary.csv')"
   ],
   "metadata": {
    "collapsed": false
   }
  },
  {
   "cell_type": "code",
   "execution_count": 5,
   "outputs": [],
   "source": [
    "clicked = set()\n",
    "for title in df.title.values:\n",
    "    title = title.replace('...', '')\n",
    "    clicked.add(title[0:100])"
   ],
   "metadata": {
    "collapsed": false
   }
  },
  {
   "cell_type": "code",
   "execution_count": 6,
   "id": "8c8ade27-d122-44bd-96ac-771e9ea0c895",
   "metadata": {},
   "outputs": [],
   "source": [
    "has_clicked = False"
   ]
  },
  {
   "cell_type": "code",
   "execution_count": 7,
   "id": "12976d21-1e88-4920-aa15-5fce9d30a25a",
   "metadata": {},
   "outputs": [],
   "source": [
    "def patiently_click(driver, button, wait_after=0):\n",
    "    WebDriverWait(driver, timeout=60).until(EC.element_to_be_clickable((By.XPATH, button)))\n",
    "    driver.find_element(By.XPATH, button).click()\n",
    "    if wait_after > 0:\n",
    "        sleep(wait_after)"
   ]
  },
  {
   "cell_type": "code",
   "execution_count": 8,
   "outputs": [],
   "source": [
    "def wait_for_download(command, max_wait=600):\n",
    "    initial_length = len(list(DOWNLOAD_DIRECTORY.iterdir()))\n",
    "    command()\n",
    "    total_wait = 0\n",
    "    while len(list(DOWNLOAD_DIRECTORY.iterdir())) == initial_length:\n",
    "        sleep(15)\n",
    "        total_wait += 15\n",
    "        if total_wait > max_wait:\n",
    "            return False\n",
    "    return True"
   ],
   "metadata": {
    "collapsed": false
   }
  },
  {
   "cell_type": "code",
   "execution_count": 9,
   "outputs": [],
   "source": [
    "def patiently_find_regex(driver, regex):\n",
    "    attempts = 0\n",
    "    results = []\n",
    "    while len(results) == 0 and attempts < 30:\n",
    "        sleep(15)\n",
    "        results = re.findall(regex, driver.page_source)\n",
    "        attempts += 1\n",
    "    if len(results) == 0:\n",
    "        return None\n",
    "    return results[0]"
   ],
   "metadata": {
    "collapsed": false
   }
  },
  {
   "cell_type": "code",
   "execution_count": 11,
   "id": "0965a8fb-9ad0-495c-9de6-545d7203897c",
   "metadata": {},
   "outputs": [
    {
     "ename": "KeyboardInterrupt",
     "evalue": "",
     "output_type": "error",
     "traceback": [
      "\u001B[0;31m---------------------------------------------------------------------------\u001B[0m",
      "\u001B[0;31mKeyboardInterrupt\u001B[0m                         Traceback (most recent call last)",
      "Cell \u001B[0;32mIn [11], line 50\u001B[0m\n\u001B[1;32m     48\u001B[0m         \u001B[38;5;28;01mbreak\u001B[39;00m\n\u001B[1;32m     49\u001B[0m     \u001B[38;5;28;01mif\u001B[39;00m \u001B[38;5;129;01mnot\u001B[39;00m has_clicked:\n\u001B[0;32m---> 50\u001B[0m         \u001B[43mpatiently_click\u001B[49m\u001B[43m(\u001B[49m\u001B[43mdriver\u001B[49m\u001B[43m,\u001B[49m\u001B[43m \u001B[49m\u001B[38;5;124;43m'\u001B[39;49m\u001B[38;5;124;43m//*[@id=\u001B[39;49m\u001B[38;5;124;43m\"\u001B[39;49m\u001B[38;5;124;43mnext\u001B[39;49m\u001B[38;5;124;43m\"\u001B[39;49m\u001B[38;5;124;43m]\u001B[39;49m\u001B[38;5;124;43m'\u001B[39;49m\u001B[43m,\u001B[49m\u001B[43m \u001B[49m\u001B[43mwait_after\u001B[49m\u001B[38;5;241;43m=\u001B[39;49m\u001B[38;5;241;43m5\u001B[39;49m\u001B[43m)\u001B[49m\n\u001B[1;32m     51\u001B[0m has_clicked \u001B[38;5;241m=\u001B[39m \u001B[38;5;28;01mFalse\u001B[39;00m\n",
      "Cell \u001B[0;32mIn [7], line 5\u001B[0m, in \u001B[0;36mpatiently_click\u001B[0;34m(driver, button, wait_after)\u001B[0m\n\u001B[1;32m      3\u001B[0m driver\u001B[38;5;241m.\u001B[39mfind_element(By\u001B[38;5;241m.\u001B[39mXPATH, button)\u001B[38;5;241m.\u001B[39mclick()\n\u001B[1;32m      4\u001B[0m \u001B[38;5;28;01mif\u001B[39;00m wait_after \u001B[38;5;241m>\u001B[39m \u001B[38;5;241m0\u001B[39m:\n\u001B[0;32m----> 5\u001B[0m     \u001B[43msleep\u001B[49m\u001B[43m(\u001B[49m\u001B[43mwait_after\u001B[49m\u001B[43m)\u001B[49m\n",
      "\u001B[0;31mKeyboardInterrupt\u001B[0m: "
     ]
    }
   ],
   "source": [
    "while True:\n",
    "    while not has_clicked:\n",
    "        elements = driver.find_elements(By.CLASS_NAME, 'ADTableBodyWhite')\n",
    "        for element in elements:\n",
    "            title = element.find_element(By.CLASS_NAME, 'QuoteSearchResultTitle')\n",
    "            title_text = title.text\n",
    "            if title_text[0:100] in clicked:\n",
    "                continue\n",
    "\n",
    "            date = element.find_elements(By.CLASS_NAME, 'paddingRight5')[2].text\n",
    "            request_expired = dt.datetime.strptime(date[:-4], '%d %b %Y %I:%M %p') < dt.datetime.now()\n",
    "            if request_expired:\n",
    "                continue\n",
    "\n",
    "            print(f'Accessing {title.text}')\n",
    "            print(f'\\tdate: {date}')\n",
    "\n",
    "            clicked.add(title_text[0:100])\n",
    "            title.click()\n",
    "            has_clicked = True\n",
    "\n",
    "            document_id = patiently_find_regex(driver, '(Doc\\d{10})')\n",
    "            print(f'\\tDocument id is {document_id}')\n",
    "\n",
    "            html_exists = Path(f'{REPO_DIRECTORY}/data/{document_id}.html').exists() or Path(\n",
    "                f'{REPO_DIRECTORY}/data/{document_id}/{document_id}.html'\n",
    "            ).exists()\n",
    "            zip_exists = Path(f'{REPO_DIRECTORY}/data/{document_id}.zip').exists() or Path(\n",
    "                f'{REPO_DIRECTORY}/data/{document_id}'\n",
    "            ).exists()\n",
    "\n",
    "            print('\\tZip exists' if zip_exists else '\\tZip does not exist')\n",
    "            print('\\tHTML exists' if html_exists else '\\tHTML does not exist')\n",
    "\n",
    "            if not html_exists:\n",
    "                with open(f'{REPO_DIRECTORY}/data/{document_id}.html', 'w') as f:\n",
    "                    f.write(driver.page_source)\n",
    "            if (not zip_exists) and (not request_expired):\n",
    "                patiently_click(driver, '//*[@id=\"_hfdr9c\"]')  #respond to posting\n",
    "                patiently_click(driver, '//*[@id=\"_xjqay\"]')  #download content\n",
    "                patiently_click(driver, '//*[@id=\"_hgesab\"]', wait_after=15)  #click download attachment\n",
    "                patiently_click(driver, '//*[@id=\"_h_l$m\"]/span/div/label', wait_after=5)  #click select all\n",
    "                wait_for_download(\n",
    "                    lambda: patiently_click(driver, '//*[@id=\"_5wq_j\"]')\n",
    "                )  #download attachments (for real)\n",
    "            driver.get(\"https://service.ariba.com/Discovery.aw/ad/profile?key=AN01050912625#b0\")\n",
    "            sleep(2)\n",
    "            break\n",
    "        if not has_clicked:\n",
    "            patiently_click(driver, '//*[@id=\"next\"]', wait_after=5)\n",
    "    has_clicked = False"
   ]
  },
  {
   "cell_type": "code",
   "execution_count": null,
   "outputs": [],
   "source": [],
   "metadata": {
    "collapsed": false
   }
  }
 ],
 "metadata": {
  "kernelspec": {
   "display_name": "Python 3 (ipykernel)",
   "language": "python",
   "name": "python3"
  },
  "language_info": {
   "codemirror_mode": {
    "name": "ipython",
    "version": 3
   },
   "file_extension": ".py",
   "mimetype": "text/x-python",
   "name": "python",
   "nbconvert_exporter": "python",
   "pygments_lexer": "ipython3",
   "version": "3.10.8"
  }
 },
 "nbformat": 4,
 "nbformat_minor": 5
}
