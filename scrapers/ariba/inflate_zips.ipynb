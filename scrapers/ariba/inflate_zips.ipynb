{
 "cells": [
  {
   "cell_type": "code",
   "execution_count": 6,
   "metadata": {
    "tags": []
   },
   "outputs": [],
   "source": [
    "from os import system\n",
    "\n",
    "import pathlib\n",
    "import zipfile\n",
    "from pathlib import Path"
   ]
  },
  {
   "cell_type": "code",
   "execution_count": 7,
   "metadata": {
    "collapsed": false,
    "jupyter": {
     "outputs_hidden": false
    }
   },
   "outputs": [],
   "source": [
    "def extract_zip_recursively(zip_file: Path, new_dir: Path):\n",
    "    print(f\"Extracting contents of {zip_file} to {new_dir}\")\n",
    "    with zipfile.ZipFile(zip_file, \"r\") as z:\n",
    "        z.extractall(new_dir)\n",
    "        for name in z.namelist():\n",
    "            if name.endswith(\".zip\"):\n",
    "                nested_zip = new_dir / name\n",
    "                extract_zip_recursively(nested_zip, new_dir)\n",
    "    zip_file.unlink()"
   ]
  },
  {
   "cell_type": "code",
   "execution_count": 8,
   "metadata": {
    "collapsed": false,
    "jupyter": {
     "outputs_hidden": false
    }
   },
   "outputs": [],
   "source": [
    "def extract_zips_in_directory(directory: Path):\n",
    "    for path in directory.rglob(\"*.zip\"):\n",
    "        extract_zip_recursively(path, path.parent)\n",
    "\n",
    "#extract_zips_in_directory(Path('data'))"
   ]
  },
  {
   "cell_type": "code",
   "execution_count": 9,
   "metadata": {
    "collapsed": false,
    "jupyter": {
     "outputs_hidden": false
    }
   },
   "outputs": [],
   "source": [
    "def extract_zip_and_move_html(directory):\n",
    "    directory = pathlib.Path(directory)\n",
    "    for filename in directory.iterdir():\n",
    "        if filename.suffix == \".html\":\n",
    "            html_file = filename\n",
    "            \n",
    "            new_dir = filename.with_suffix(\"\")\n",
    "            print(f\"Creating directory: {new_dir}\")\n",
    "            new_dir.mkdir(parents=True, exist_ok=True)\n",
    "\n",
    "            print(f\"Moving {html_file} to {new_dir / html_file.name}\")\n",
    "            html_file.rename(new_dir / html_file.name)\n",
    "            \n",
    "            zip_file = filename.with_suffix(\".zip\")\n",
    "\n",
    "            if zip_file.exists():\n",
    "                \n",
    "\n",
    "                extract_zip_recursively(zip_file, new_dir)\n",
    "\n",
    "                print(f\"Removing {zip_file}\")\n",
    "                try:\n",
    "                    zip_file.unlink()\n",
    "                except FileNotFoundError:\n",
    "                    pass"
   ]
  },
  {
   "cell_type": "code",
   "execution_count": 11,
   "metadata": {
    "collapsed": false,
    "jupyter": {
     "outputs_hidden": false
    }
   },
   "outputs": [
    {
     "name": "stdout",
     "output_type": "stream",
     "text": [
      "Creating directory: data/Doc3704136229\n",
      "Moving data/Doc3704136229.html to data/Doc3704136229/Doc3704136229.html\n",
      "Creating directory: data/Doc3647789334\n",
      "Moving data/Doc3647789334.html to data/Doc3647789334/Doc3647789334.html\n",
      "Creating directory: data/Doc3413285423\n",
      "Moving data/Doc3413285423.html to data/Doc3413285423/Doc3413285423.html\n",
      "Creating directory: data/Doc3712084057\n",
      "Moving data/Doc3712084057.html to data/Doc3712084057/Doc3712084057.html\n",
      "Creating directory: data/Doc3756696067\n",
      "Moving data/Doc3756696067.html to data/Doc3756696067/Doc3756696067.html\n",
      "Creating directory: data/Doc3570982459\n",
      "Moving data/Doc3570982459.html to data/Doc3570982459/Doc3570982459.html\n",
      "Creating directory: data/Doc3470966933\n",
      "Moving data/Doc3470966933.html to data/Doc3470966933/Doc3470966933.html\n",
      "Creating directory: data/Doc3485950325\n",
      "Moving data/Doc3485950325.html to data/Doc3485950325/Doc3485950325.html\n",
      "Creating directory: data/Doc3752824894\n",
      "Moving data/Doc3752824894.html to data/Doc3752824894/Doc3752824894.html\n",
      "Creating directory: data/Doc3840026697\n",
      "Moving data/Doc3840026697.html to data/Doc3840026697/Doc3840026697.html\n",
      "Creating directory: data/Doc3638012617\n",
      "Moving data/Doc3638012617.html to data/Doc3638012617/Doc3638012617.html\n",
      "Creating directory: data/Doc3000703893\n",
      "Moving data/Doc3000703893.html to data/Doc3000703893/Doc3000703893.html\n",
      "Creating directory: data/Doc3792180784\n",
      "Moving data/Doc3792180784.html to data/Doc3792180784/Doc3792180784.html\n",
      "Creating directory: data/Doc3092353323\n",
      "Moving data/Doc3092353323.html to data/Doc3092353323/Doc3092353323.html\n",
      "Creating directory: data/Doc3559116755\n",
      "Moving data/Doc3559116755.html to data/Doc3559116755/Doc3559116755.html\n",
      "Creating directory: data/Doc3521828215\n",
      "Moving data/Doc3521828215.html to data/Doc3521828215/Doc3521828215.html\n",
      "Creating directory: data/Doc3744659987\n",
      "Moving data/Doc3744659987.html to data/Doc3744659987/Doc3744659987.html\n"
     ]
    }
   ],
   "source": [
    "extract_zip_and_move_html('data')\n",
    "#extract_zips_in_directory(Path('data'))"
   ]
  },
  {
   "cell_type": "code",
   "execution_count": 25,
   "metadata": {
    "collapsed": false,
    "jupyter": {
     "outputs_hidden": false
    }
   },
   "outputs": [
    {
     "name": "stdout",
     "output_type": "stream",
     "text": [
      "Moving Doc3584366982 NOIP.pdf to data/Doc3584366982\n",
      "Moving Doc3391453547 NOIP.pdf to data/Doc3391453547\n",
      "Moving Doc3694194042 NOIP.pdf to data/Doc3694194042\n",
      "Moving Doc3393128038 NOIP.pdf to data/Doc3393128038\n",
      "Moving Doc3561019185 NOIP.pdf to data/Doc3561019185\n",
      "Moving Doc3432616649 NOIP.pdf to data/Doc3432616649\n",
      "Moving Doc3578321865 NOIP.pdf to data/Doc3578321865\n",
      "Moving Doc3740576765 NOIP.pdf to data/Doc3740576765\n",
      "Moving Doc3333466537 NOIP.pdf to data/Doc3333466537\n",
      "Moving NOIP Doc3391389921 .pdf to data/Doc3391389921\n",
      "Moving Doc3470566906 NOIP.pdf to data/Doc3470566906\n",
      "Moving Doc3780626765 NOIP.pdf to data/Doc3780626765\n",
      "Moving Doc3307414455 NOIP.pdf to data/Doc3307414455\n",
      "Moving Doc3865027173 NOIP.pdf to data/Doc3865027173\n",
      "Moving Doc3850138283 NOIP.pdf to data/Doc3850138283\n",
      "Moving Doc3518098168 NOIP.pdf to data/Doc3518098168\n"
     ]
    }
   ],
   "source": [
    "for file in Path('data/').glob('*.pdf'):\n",
    "    name_parts = file.stem.split(' ')\n",
    "    docnum = [part for part in name_parts if 'Doc' in part]\n",
    "    if len(docnum) == 1:\n",
    "        rfp_path = Path('data') / Path(docnum[0])\n",
    "        rfp_path.mkdir(exist_ok=True)\n",
    "        print(f'Moving {file.parts[-1]} to {rfp_path}')\n",
    "        file.rename(rfp_path / file.parts[-1])\n",
    "        \n"
   ]
  },
  {
   "cell_type": "code",
   "execution_count": 23,
   "metadata": {},
   "outputs": [
    {
     "data": {
      "text/plain": [
       "'Doc3518098168 NOIP.pdf'"
      ]
     },
     "execution_count": 23,
     "metadata": {},
     "output_type": "execute_result"
    }
   ],
   "source": []
  },
  {
   "cell_type": "code",
   "execution_count": null,
   "metadata": {},
   "outputs": [],
   "source": []
  }
 ],
 "metadata": {
  "kernelspec": {
   "display_name": "Python 3 (ipykernel)",
   "language": "python",
   "name": "python3"
  },
  "language_info": {
   "codemirror_mode": {
    "name": "ipython",
    "version": 3
   },
   "file_extension": ".py",
   "mimetype": "text/x-python",
   "name": "python",
   "nbconvert_exporter": "python",
   "pygments_lexer": "ipython3",
   "version": "3.10.9"
  }
 },
 "nbformat": 4,
 "nbformat_minor": 4
}
