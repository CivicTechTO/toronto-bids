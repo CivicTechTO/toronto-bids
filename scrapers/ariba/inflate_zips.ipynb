{
 "cells": [
  {
   "cell_type": "code",
   "execution_count": 6,
   "metadata": {
    "tags": []
   },
   "outputs": [],
   "source": [
    "from os import system\n",
    "\n",
    "import pathlib\n",
    "import zipfile\n",
    "from pathlib import Path"
   ]
  },
  {
   "cell_type": "code",
   "execution_count": 7,
   "metadata": {
    "collapsed": false,
    "jupyter": {
     "outputs_hidden": false
    }
   },
   "outputs": [],
   "source": []
  },
  {
   "cell_type": "code",
   "execution_count": 25,
   "metadata": {
    "collapsed": false,
    "jupyter": {
     "outputs_hidden": false
    }
   },
   "outputs": [
    {
     "name": "stdout",
     "output_type": "stream",
     "text": [
      "Moving Doc3584366982 NOIP.pdf to data/Doc3584366982\n",
      "Moving Doc3391453547 NOIP.pdf to data/Doc3391453547\n",
      "Moving Doc3694194042 NOIP.pdf to data/Doc3694194042\n",
      "Moving Doc3393128038 NOIP.pdf to data/Doc3393128038\n",
      "Moving Doc3561019185 NOIP.pdf to data/Doc3561019185\n",
      "Moving Doc3432616649 NOIP.pdf to data/Doc3432616649\n",
      "Moving Doc3578321865 NOIP.pdf to data/Doc3578321865\n",
      "Moving Doc3740576765 NOIP.pdf to data/Doc3740576765\n",
      "Moving Doc3333466537 NOIP.pdf to data/Doc3333466537\n",
      "Moving NOIP Doc3391389921 .pdf to data/Doc3391389921\n",
      "Moving Doc3470566906 NOIP.pdf to data/Doc3470566906\n",
      "Moving Doc3780626765 NOIP.pdf to data/Doc3780626765\n",
      "Moving Doc3307414455 NOIP.pdf to data/Doc3307414455\n",
      "Moving Doc3865027173 NOIP.pdf to data/Doc3865027173\n",
      "Moving Doc3850138283 NOIP.pdf to data/Doc3850138283\n",
      "Moving Doc3518098168 NOIP.pdf to data/Doc3518098168\n"
     ]
    }
   ],
   "source": []
  },
  {
   "cell_type": "code",
   "execution_count": 23,
   "metadata": {},
   "outputs": [
    {
     "data": {
      "text/plain": [
       "'Doc3518098168 NOIP.pdf'"
      ]
     },
     "execution_count": 23,
     "metadata": {},
     "output_type": "execute_result"
    }
   ],
   "source": []
  },
  {
   "cell_type": "code",
   "execution_count": null,
   "metadata": {},
   "outputs": [],
   "source": []
  }
 ],
 "metadata": {
  "kernelspec": {
   "display_name": "Python 3 (ipykernel)",
   "language": "python",
   "name": "python3"
  },
  "language_info": {
   "codemirror_mode": {
    "name": "ipython",
    "version": 3
   },
   "file_extension": ".py",
   "mimetype": "text/x-python",
   "name": "python",
   "nbconvert_exporter": "python",
   "pygments_lexer": "ipython3",
   "version": "3.10.9"
  }
 },
 "nbformat": 4,
 "nbformat_minor": 4
}
