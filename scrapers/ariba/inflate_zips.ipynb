{
 "cells": [
  {
   "cell_type": "code",
   "execution_count": 1,
   "metadata": {
    "tags": []
   },
   "outputs": [],
   "source": [
    "from os import system\n",
    "\n",
    "import pathlib\n",
    "import zipfile\n",
    "from pathlib import Path"
   ]
  },
  {
   "cell_type": "code",
   "execution_count": 2,
   "metadata": {
    "collapsed": false,
    "jupyter": {
     "outputs_hidden": false
    }
   },
   "outputs": [],
   "source": [
    "def extract_zip_recursively(zip_file: Path, new_dir: Path):\n",
    "    print(f\"Extracting contents of {zip_file} to {new_dir}\")\n",
    "    with zipfile.ZipFile(zip_file, \"r\") as z:\n",
    "        z.extractall(new_dir)\n",
    "        for name in z.namelist():\n",
    "            if name.endswith(\".zip\"):\n",
    "                nested_zip = new_dir / name\n",
    "                extract_zip_recursively(nested_zip, new_dir)\n",
    "    zip_file.unlink()"
   ]
  },
  {
   "cell_type": "code",
   "execution_count": 3,
   "metadata": {
    "collapsed": false,
    "jupyter": {
     "outputs_hidden": false
    }
   },
   "outputs": [],
   "source": [
    "def extract_zips_in_directory(directory: Path):\n",
    "    for path in directory.rglob(\"*.zip\"):\n",
    "        extract_zip_recursively(path, path.parent)\n",
    "\n",
    "#extract_zips_in_directory(Path('data'))"
   ]
  },
  {
   "cell_type": "code",
   "execution_count": 4,
   "metadata": {
    "collapsed": false,
    "jupyter": {
     "outputs_hidden": false
    }
   },
   "outputs": [],
   "source": [
    "def extract_zip_and_move_html(directory):\n",
    "    directory = pathlib.Path(directory)\n",
    "    for filename in directory.iterdir():\n",
    "        if filename.suffix == \".html\":\n",
    "            html_file = filename\n",
    "            \n",
    "            new_dir = filename.with_suffix(\"\")\n",
    "            print(f\"Creating directory: {new_dir}\")\n",
    "            new_dir.mkdir(parents=True, exist_ok=True)\n",
    "\n",
    "            print(f\"Moving {html_file} to {new_dir / html_file.name}\")\n",
    "            html_file.rename(new_dir / html_file.name)\n",
    "            \n",
    "            zip_file = filename.with_suffix(\".zip\")\n",
    "\n",
    "            if zip_file.exists():\n",
    "                \n",
    "\n",
    "                extract_zip_recursively(zip_file, new_dir)\n",
    "\n",
    "                print(f\"Removing {zip_file}\")\n",
    "                zip_file.unlink()"
   ]
  },
  {
   "cell_type": "code",
   "execution_count": 5,
   "metadata": {
    "collapsed": false,
    "jupyter": {
     "outputs_hidden": false
    }
   },
   "outputs": [],
   "source": [
    "extract_zip_and_move_html('data')\n",
    "#extract_zips_in_directory(Path('data'))"
   ]
  },
  {
   "cell_type": "code",
   "execution_count": null,
   "metadata": {
    "collapsed": false,
    "jupyter": {
     "outputs_hidden": false
    }
   },
   "outputs": [],
   "source": [
    "def recursively_convert(folder):\n",
    "    for file in folder.iterdir():\n",
    "        if file.is_dir():\n",
    "            recursively_convert(file)\n",
    "        if file.suffix.lower() in ['.docx', '.doc']:\n",
    "            system(f'textutil -convert rtf \"{file.as_posix()}\"')\n",
    "            file.unlink()"
   ]
  },
  {
   "cell_type": "code",
   "execution_count": null,
   "metadata": {
    "collapsed": false,
    "jupyter": {
     "outputs_hidden": false
    }
   },
   "outputs": [],
   "source": [
    "for folder in Path('data').iterdir():\n",
    "    if folder.is_dir():\n",
    "        recursively_convert(folder)"
   ]
  },
  {
   "cell_type": "code",
   "execution_count": null,
   "metadata": {
    "collapsed": false,
    "jupyter": {
     "outputs_hidden": false
    }
   },
   "outputs": [],
   "source": []
  }
 ],
 "metadata": {
  "kernelspec": {
   "display_name": "Python 3 (ipykernel)",
   "language": "python",
   "name": "python3"
  },
  "language_info": {
   "codemirror_mode": {
    "name": "ipython",
    "version": 3
   },
   "file_extension": ".py",
   "mimetype": "text/x-python",
   "name": "python",
   "nbconvert_exporter": "python",
   "pygments_lexer": "ipython3",
   "version": "3.10.9"
  }
 },
 "nbformat": 4,
 "nbformat_minor": 4
}
