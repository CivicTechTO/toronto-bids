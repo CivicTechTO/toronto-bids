{
 "cells": [
  {
   "cell_type": "code",
   "execution_count": 1,
   "id": "6acd8d44-b195-441b-b602-ebeb9c7f40b6",
   "metadata": {},
   "outputs": [],
   "source": [
    "import datetime as dt\n",
    "import pandas as pd\n",
    "import re\n",
    "from pathlib import Path\n",
    "from selenium.webdriver.chrome.service import Service as ChromeService\n",
    "from selenium.webdriver.common.by import By\n",
    "from selenium.webdriver.common.keys import Keys\n",
    "from selenium.webdriver.support import expected_conditions as EC\n",
    "from selenium.webdriver.support.wait import WebDriverWait\n",
    "from selenium.webdriver.remote.errorhandler import NoSuchElementException\n",
    "from ariba_driver import Ariba\n",
    "from time import sleep\n",
    "from webdriver_manager.chrome import ChromeDriverManager\n",
    "\n",
    "DOWNLOAD_DIRECTORY = Path('/home/alex/Downloads')\n",
    "REPO_DIRECTORY = '/home/alex/repos/toronto-bids/scrapers/ariba'"
   ]
  },
  {
   "cell_type": "code",
   "execution_count": 2,
   "id": "cf087c8c",
   "metadata": {
    "collapsed": false,
    "jupyter": {
     "outputs_hidden": false
    }
   },
   "outputs": [
    {
     "name": "stderr",
     "output_type": "stream",
     "text": [
      "[WDM] - Downloading: 100%|████████████████████████████████████████████████████████████████████████████████████████████████████████████████████████████████████████████████████████████████████████████████████████████████████████████████████████████| 6.83M/6.83M [00:00<00:00, 101MB/s]\n"
     ]
    }
   ],
   "source": [
    "driver = Ariba(service=ChromeService(ChromeDriverManager().install()))"
   ]
  },
  {
   "cell_type": "code",
   "execution_count": 3,
   "id": "7de67de4-3631-4a29-9f08-fac6757ef0fb",
   "metadata": {},
   "outputs": [],
   "source": [
    "driver.get(\"https://service.ariba.com/Discovery.aw/ad/profile?key=AN01050912625#b0\")\n",
    "sleep(5)\n",
    "driver.find_element(By.CSS_SELECTOR, \".sap-icon--log\").click()\n",
    "sleep(5)\n",
    "with open('username.key','r') as f:\n",
    "    driver.find_element(By.NAME, \"UserName\").send_keys(f.read())\n",
    "with open('password.key','r') as f:\n",
    "    driver.find_element(By.NAME, \"Password\").send_keys(f.read())\n",
    "driver.find_element(By.NAME, \"Password\").send_keys(Keys.ENTER)\n",
    "sleep(5)\n",
    "driver.get(\"https://service.ariba.com/Discovery.aw/ad/profile?key=AN01050912625#b0\")"
   ]
  },
  {
   "cell_type": "code",
   "execution_count": 4,
   "id": "7e90b44d",
   "metadata": {
    "collapsed": false,
    "jupyter": {
     "outputs_hidden": false
    }
   },
   "outputs": [],
   "source": [
    "clicked = set()\n",
    "\n",
    "if Path('data_summary.csv').exists():\n",
    "    df = pd.read_csv('data_summary.csv')\n",
    "    for title in df.title.values:\n",
    "        if title == title:\n",
    "            title = title.replace('...', '')\n",
    "            clicked.add(title[0:100])"
   ]
  },
  {
   "cell_type": "code",
   "execution_count": 5,
   "id": "8c8ade27-d122-44bd-96ac-771e9ea0c895",
   "metadata": {},
   "outputs": [],
   "source": [
    "has_clicked = False"
   ]
  },
  {
   "cell_type": "code",
   "execution_count": 6,
   "id": "78ce8802",
   "metadata": {
    "collapsed": false,
    "jupyter": {
     "outputs_hidden": false
    }
   },
   "outputs": [],
   "source": [
    "def wait_for_download(command, max_wait=1200):\n",
    "    initial_length = len(list(DOWNLOAD_DIRECTORY.iterdir()))\n",
    "    command()\n",
    "    total_wait = 0\n",
    "    while len(list(DOWNLOAD_DIRECTORY.iterdir())) == initial_length:\n",
    "        sleep(15)\n",
    "        total_wait += 15\n",
    "        if total_wait > max_wait:\n",
    "            return False\n",
    "    return True"
   ]
  },
  {
   "cell_type": "code",
   "execution_count": 7,
   "id": "bb63425d-c8f6-4d42-991a-a92a668b3930",
   "metadata": {},
   "outputs": [],
   "source": [
    "def count_directory_files(root: Path):\n",
    "    if not root.exists():\n",
    "        return 0\n",
    "    return len(list(root.iterdir()))"
   ]
  },
  {
   "cell_type": "code",
   "execution_count": 8,
   "id": "0965a8fb-9ad0-495c-9de6-545d7203897c",
   "metadata": {
    "tags": []
   },
   "outputs": [],
   "source": [
    "def main_loop(has_clicked=False):\n",
    "    while not has_clicked:\n",
    "        elements = driver.find_elements(By.CLASS_NAME, 'ADTableBodyWhite')\n",
    "        elements += driver.find_elements(By.CLASS_NAME, 'ADHiliteBlock')\n",
    "        for element in elements:\n",
    "            try:\n",
    "                title = element.find_element(By.CLASS_NAME, 'QuoteSearchResultTitle')\n",
    "            except NoSuchElementException:\n",
    "                continue\n",
    "            title_text = title.text\n",
    "            if title_text[0:100] in clicked:\n",
    "                continue\n",
    "            \n",
    "            print(f'Accessing {title.text}')\n",
    "            try:\n",
    "                date = element.find_elements(By.CLASS_NAME, 'paddingRight5')[2].text\n",
    "                request_expired = dt.datetime.strptime(date[:-4], '%d %b %Y %I:%M %p') < dt.datetime.now()\n",
    "                print(f'\\tdate: {date}')\n",
    "\n",
    "            except IndexError:\n",
    "                request_expired = True\n",
    "                print('\\tNo date found')\n",
    "\n",
    "            clicked.add(title_text[0:100])\n",
    "            title.click()\n",
    "            has_clicked = True\n",
    "\n",
    "            document_id = driver.patiently_find_regex('(Doc\\d{10})')\n",
    "            print(f'\\tDocument id is {document_id}')\n",
    "\n",
    "            noip = driver.find_elements(By.XPATH, '//a[contains(text(),\".pdf\")]')\n",
    "            for link in noip:\n",
    "                print(f'\\tPDF found, downloading {link.text}')\n",
    "                wait_for_download(lambda: link.click())\n",
    "\n",
    "            \n",
    "            html_exists = Path(f'{REPO_DIRECTORY}/data/{document_id}.html').exists() or Path(\n",
    "                f'{REPO_DIRECTORY}/data/{document_id}/{document_id}.html'\n",
    "            ).exists()\n",
    "            zip_exists = Path(f'{REPO_DIRECTORY}/data/{document_id}.zip').exists() or count_directory_files(Path(\n",
    "                f'{REPO_DIRECTORY}/data/{document_id}'\n",
    "            )) > 1\n",
    "            \n",
    "            print('\\tHTML exists' if html_exists else '\\tHTML does not exist')\n",
    "\n",
    "            if zip_exists:\n",
    "                print('\\tZip exists')\n",
    "            elif not request_expired:\n",
    "                print('\\tZip does not exist')\n",
    "            else:\n",
    "                print('\\tZip does not exist, but RFP is expired')\n",
    "\n",
    "            if not html_exists:\n",
    "                with open(f'{REPO_DIRECTORY}/data/{document_id}.html', 'w') as f:\n",
    "                    f.write(driver.page_source)\n",
    "            if (not zip_exists) and (not request_expired):\n",
    "                driver.patiently_click('//*[@id=\"_hfdr9c\"]')  #respond to posting\n",
    "                driver.patiently_click('//*[@id=\"_xjqay\"]')  #download content\n",
    "                driver.patiently_click('//*[@id=\"_hgesab\"]', wait_after=15)  #click download attachment\n",
    "                driver.patiently_click('//*[@id=\"_h_l$m\"]/span/div/label', wait_after=5)  #click select all\n",
    "                wait_for_download(\n",
    "                    lambda: driver.patiently_click('//*[@id=\"_5wq_j\"]')\n",
    "                )  #download attachments (for real)\n",
    "            driver.get(\"https://service.ariba.com/Discovery.aw/ad/profile?key=AN01050912625#b0\")\n",
    "            sleep(2)\n",
    "            break\n",
    "        if not has_clicked:\n",
    "            driver.patiently_click('//*[@id=\"next\"]', wait_after=5)"
   ]
  },
  {
   "cell_type": "code",
   "execution_count": null,
   "id": "b1d33e22-5821-417d-bcb4-1e6a7839397a",
   "metadata": {},
   "outputs": [
    {
     "name": "stdout",
     "output_type": "stream",
     "text": [
      "Accessing RFT for  Ashbridges Bay Treatment Plant Boiler Demolition and Installation Contract\n",
      "\tdate: 9 May 2022 8:59 PM PDT\n",
      "\tDocument id is Doc3374301730\n",
      "\tHTML exists\n",
      "\tZip does not exist, but RFP is expired\n",
      "Accessing RFP for Actuarial Valuation for the Toronto Fire Department Superannuation and Benefit  Fund\n",
      "\tdate: 29 Jul 2022 9:03 AM PDT\n",
      "\tDocument id is Doc3313053012\n",
      "\tHTML exists\n",
      "\tZip does not exist, but RFP is expired\n",
      "Accessing Doc3528836035 -  RFQ - Thermal Imaging Cameras and Related Accessories for the City of Toronto’s Fire Services Division\n",
      "\tdate: 20 Jul 2022 8:59 PM PDT\n",
      "\tDocument id is Doc3528836035\n",
      "\tHTML exists\n",
      "\tZip does not exist, but RFP is expired\n",
      "Accessing Request for Quotations for Power Pressure Cleaning Services for Kitchen, Dishwasher and Laundry Exhaust and Associated Ducts\n",
      "\tdate: 14 Mar 2023 9:00 AM PDT\n",
      "\tDocument id is Doc3853643516\n",
      "\tHTML exists\n",
      "\tZip exists\n",
      "Accessing Request For Supplier Qualification for Design Builders for retrofit projects  with the RHI program\n",
      "\tdate: 3 Apr 2023 9:00 AM PDT\n",
      "\tDocument id is Doc3829596667\n",
      "\tHTML exists\n",
      "\tZip exists\n",
      "Accessing iRFQ for Engraved Name Tags\n",
      "\tdate: 31 Mar 2023 9:00 AM PDT\n",
      "\tDocument id is Doc3872445914\n",
      "\tHTML does not exist\n",
      "\tZip does not exist\n",
      "Accessing Request for Quotations for the non-exclusive supply and delivery of Sampling Bottles\n",
      "\tdate: 12 Apr 2023 9:00 AM PDT\n",
      "\tDocument id is Doc3899798857\n",
      "\tHTML does not exist\n",
      "\tZip does not exist\n",
      "Accessing Request for Quotation for supply, storage, delivery and warranty of In-Unit Organics Storage Containers for the City of Toronto's Solid Waste Management Services Division\n",
      "\tdate: 5 Apr 2023 9:00 AM PDT\n",
      "\tDocument id is Doc3741426677\n",
      "\tHTML does not exist\n",
      "\tZip does not exist\n",
      "Accessing Doc3866496418 - Request for Quotations for Repair and Maintenance Services of Pumps and Motors\n",
      "\tdate: 4 Apr 2023 9:00 AM PDT\n",
      "\tDocument id is Doc3866496418\n",
      "\tHTML does not exist\n",
      "\tZip does not exist\n",
      "Accessing RFP for Compactor Replacement at  Victoria Park, Dufferin, Commissioners and Ingram Transfer Stations\n",
      "\tdate: 14 Mar 2023 9:00 AM PDT\n",
      "\tDocument id is Doc3800872667\n",
      "\tHTML exists\n",
      "\tZip exists\n",
      "Accessing IDS - RFT Rehabilitation of McCowan Road over Highland Creek -  23ECS-BE-11BSE\n",
      "\tdate: 23 Mar 2023 9:00 AM PDT\n",
      "\tDocument id is Doc3865067327\n",
      "\tHTML exists\n",
      "\tZip exists\n",
      "Accessing Request for Tenders for Baycrest Park Revitalization Phase 1  This tender is open to vendors pre-qualified under RSFQ No. Doc2989612087\n",
      "\tNo date found\n",
      "\tDocument id is Doc2989612087\n",
      "\tHTML exists\n",
      "\tZip does not exist, but RFP is expired\n",
      "Accessing Request for Quotations for  Maintenance, Repairs and Testing of Emergency Generators for Long Term Care Homes, Toronto\n",
      "\tNo date found\n",
      "\tDocument id is Doc3246084628\n",
      "\tHTML exists\n",
      "\tZip does not exist, but RFP is expired\n",
      "Accessing Request for Proposal for the Provision of Real-Time  Over the Telephone Interpretation Service\n",
      "\tNo date found\n",
      "\tDocument id is Doc3387891245\n",
      "\tHTML exists\n",
      "\tZip does not exist, but RFP is expired\n",
      "Accessing Request for Quotations for  PFR Aquatic Leadership Course Management and Materials\n",
      "\tNo date found\n",
      "\tDocument id is Doc3586878870\n",
      "\tHTML exists\n",
      "\tZip does not exist, but RFP is expired\n",
      "Accessing Request for Proposal for Media Relations and  Stratcom Advise at Ombudsmans Office, Toronto\n",
      "\tNo date found\n",
      "\tDocument id is Doc3542976962\n",
      "\tHTML exists\n",
      "\tZip does not exist, but RFP is expired\n",
      "Accessing RFP for  Acquire External Auditor (PCI QSA)\n",
      "\tNo date found\n",
      "\tDocument id is Doc3499996398\n",
      "\tHTML exists\n",
      "\tZip does not exist, but RFP is expired\n",
      "Accessing IDS RFQ Aerial LiDAR System -  22ECS-ESS-01ES\n",
      "\tNo date found\n",
      "\tDocument id is Doc3624722305\n",
      "\tHTML exists\n",
      "\tZip does not exist, but RFP is expired\n",
      "Accessing Request for Proposals for   American Sign Language (ASL) Interpretation Services and Communication Access Realtime Translation (CART) Services for Various City Divisions\n",
      "\tNo date found\n",
      "\tDocument id is Doc3218413414\n",
      "\tHTML exists\n",
      "\tZip does not exist, but RFP is expired\n"
     ]
    }
   ],
   "source": [
    "while True:\n",
    "    try:\n",
    "        main_loop()\n",
    "    except Exception as e:\n",
    "        print(e)\n",
    "        sleep(60 * 10)\n",
    "        driver.get(\"https://service.ariba.com/Discovery.aw/ad/profile?key=AN01050912625#b0\")"
   ]
  },
  {
   "cell_type": "code",
   "execution_count": null,
   "id": "5f54331c-f862-4151-8dee-c5e3389df324",
   "metadata": {},
   "outputs": [],
   "source": []
  }
 ],
 "metadata": {
  "kernelspec": {
   "display_name": "Python 3 (ipykernel)",
   "language": "python",
   "name": "python3"
  },
  "language_info": {
   "codemirror_mode": {
    "name": "ipython",
    "version": 3
   },
   "file_extension": ".py",
   "mimetype": "text/x-python",
   "name": "python",
   "nbconvert_exporter": "python",
   "pygments_lexer": "ipython3",
   "version": "3.10.9"
  }
 },
 "nbformat": 4,
 "nbformat_minor": 5
}
