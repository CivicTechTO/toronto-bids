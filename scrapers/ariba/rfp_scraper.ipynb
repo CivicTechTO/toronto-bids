{
 "cells": [
  {
   "cell_type": "code",
   "execution_count": 1,
   "id": "6acd8d44-b195-441b-b602-ebeb9c7f40b6",
   "metadata": {},
   "outputs": [],
   "source": [
    "import datetime as dt\n",
    "import pandas as pd\n",
    "import re\n",
    "import os\n",
    "from pathlib import Path\n",
    "from selenium.webdriver.chrome.service import Service as ChromeService\n",
    "from selenium.webdriver.common.by import By\n",
    "from selenium.webdriver.support import expected_conditions as EC\n",
    "from selenium.webdriver.support.wait import WebDriverWait\n",
    "from selenium.webdriver.remote.errorhandler import NoSuchElementException\n",
    "from seleniumwire import webdriver\n",
    "from time import sleep\n",
    "from webdriver_manager.chrome import ChromeDriverManager\n",
    "\n",
    "from config import ConfigReader"
   ]
  },
  {
   "cell_type": "code",
   "execution_count": 2,
   "id": "cf087c8c",
   "metadata": {
    "collapsed": false,
    "jupyter": {
     "outputs_hidden": false
    }
   },
   "outputs": [
    {
     "name": "stderr",
     "output_type": "stream",
     "text": [
      "[WDM] - Downloading: 100%|███████████████████████████████████████████████████████████████████████████████████████████████████████████████████████████████████████████████████████████████████████████████████████████████████████████████████████████| 7.05M/7.05M [00:00<00:00, 82.5MB/s]\n"
     ]
    }
   ],
   "source": [
    "configReader = ConfigReader()\n",
    "DOWNLOAD_DIRECTORY = Path(configReader.load_key('scrapers')['ariba']['CONFIG_DOWNLOAD_DIRECTORY'])\n",
    "REPO_DIRECTORY = configReader.get_working_directory()\n",
    "CONFIG_TORONTO_ARIBA_URL = configReader.load_key('scrapers')['ariba']['CONFIG_TORONTO_ARIBA_URL']\n",
    "CONFIG_SCRAPING_RETRY_INTERVAL_SEC = configReader.load_key('scrapers')['ariba']['CONFIG_SCRAPING_RETRY_INTERVAL_SEC']\n",
    "CONFIG_OUTPUT_HTML_DIRECTORY = configReader.load_key('scrapers')['ariba']['CONFIG_OUTPUT_HTML_DIRECTORY']\n",
    "\n",
    "driver = webdriver.Chrome(service=ChromeService(ChromeDriverManager().install()))"
   ]
  },
  {
   "cell_type": "code",
   "execution_count": 3,
   "id": "7de67de4-3631-4a29-9f08-fac6757ef0fb",
   "metadata": {},
   "outputs": [],
   "source": [
    "driver.get(CONFIG_TORONTO_ARIBA_URL)"
   ]
  },
  {
   "cell_type": "code",
   "execution_count": 4,
   "id": "7e90b44d",
   "metadata": {
    "collapsed": false,
    "jupyter": {
     "outputs_hidden": false
    }
   },
   "outputs": [],
   "source": [
    "clicked = set()\n",
    "\n",
    "if Path('data_summary.csv').exists():\n",
    "    df = pd.read_csv('data_summary.csv')\n",
    "    for title in df.title.values:\n",
    "        if title == title:\n",
    "            title = title.replace('...', '')\n",
    "            clicked.add(title[0:100])"
   ]
  },
  {
   "cell_type": "code",
   "execution_count": 5,
   "id": "8c8ade27-d122-44bd-96ac-771e9ea0c895",
   "metadata": {},
   "outputs": [],
   "source": [
    "has_clicked = False"
   ]
  },
  {
   "cell_type": "code",
   "execution_count": 6,
   "id": "12976d21-1e88-4920-aa15-5fce9d30a25a",
   "metadata": {},
   "outputs": [],
   "source": [
    "def patiently_click(driver, button, wait_after=0):\n",
    "    WebDriverWait(driver, timeout=60).until(EC.element_to_be_clickable((By.XPATH, button)))\n",
    "    driver.find_element(By.XPATH, button).click()\n",
    "    if wait_after > 0:\n",
    "        sleep(wait_after)"
   ]
  },
  {
   "cell_type": "code",
   "execution_count": 7,
   "id": "78ce8802",
   "metadata": {
    "collapsed": false,
    "jupyter": {
     "outputs_hidden": false
    }
   },
   "outputs": [],
   "source": [
    "def wait_for_download(command, max_wait=1200):\n",
    "    initial_length = len(list(DOWNLOAD_DIRECTORY.iterdir()))\n",
    "    command()\n",
    "    total_wait = 0\n",
    "    while len(list(DOWNLOAD_DIRECTORY.iterdir())) == initial_length:\n",
    "        sleep(15)\n",
    "        total_wait += 15\n",
    "        if total_wait > max_wait:\n",
    "            return False\n",
    "    return True"
   ]
  },
  {
   "cell_type": "code",
   "execution_count": 8,
   "id": "6f0d1102",
   "metadata": {
    "collapsed": false,
    "jupyter": {
     "outputs_hidden": false
    }
   },
   "outputs": [],
   "source": [
    "def patiently_find_regex(driver, regex):\n",
    "    attempts = 0\n",
    "    results = []\n",
    "    while len(results) == 0 and attempts < 30:\n",
    "        sleep(15)\n",
    "        results = re.findall(regex, driver.page_source)\n",
    "        attempts += 1\n",
    "    if len(results) == 0:\n",
    "        return None\n",
    "    return results[0]"
   ]
  },
  {
   "cell_type": "code",
   "execution_count": 9,
   "id": "bb63425d-c8f6-4d42-991a-a92a668b3930",
   "metadata": {},
   "outputs": [],
   "source": [
    "def count_directory_files(root: Path):\n",
    "    if not root.exists():\n",
    "        return 0\n",
    "    return len(list(root.iterdir()))"
   ]
  },
  {
   "cell_type": "code",
   "execution_count": 10,
   "id": "0965a8fb-9ad0-495c-9de6-545d7203897c",
   "metadata": {
    "tags": []
   },
   "outputs": [],
   "source": [
    "def main_loop(has_clicked=False):\n",
    "    while not has_clicked:\n",
    "        elements = driver.find_elements(By.CLASS_NAME, 'ADTableBodyWhite')\n",
    "        elements += driver.find_elements(By.CLASS_NAME, 'ADHiliteBlock')\n",
    "        for element in elements:\n",
    "            try:\n",
    "                title = element.find_element(By.CLASS_NAME, 'QuoteSearchResultTitle')\n",
    "            except NoSuchElementException:\n",
    "                continue\n",
    "            title_text = title.text\n",
    "            if title_text[0:100] in clicked:\n",
    "                continue\n",
    "            \n",
    "            print(f'Accessing {title.text}')\n",
    "            try:\n",
    "                date = element.find_elements(By.CLASS_NAME, 'paddingRight5')[2].text\n",
    "                request_expired = dt.datetime.strptime(date[:-4], '%d %b %Y %I:%M %p') < dt.datetime.now()\n",
    "                print(f'\\tdate: {date}')\n",
    "\n",
    "            except IndexError:\n",
    "                request_expired = True\n",
    "                print('\\tNo date found')\n",
    "\n",
    "            clicked.add(title_text[0:100])\n",
    "            title.click()\n",
    "            has_clicked = True\n",
    "\n",
    "            document_id = patiently_find_regex(driver, '(Doc\\d{10})')\n",
    "            print(f'\\tDocument id is {document_id}')\n",
    "\n",
    "            html_exists = Path(os.path.join(REPO_DIRECTORY,f'/data/{document_id}.html')).exists() or Path(os.path.join({REPO_DIRECTORY},f'/data/{document_id}/{document_id}.html')).exists()\n",
    "            \n",
    "            zip_exists = Path(os.path.join(REPO_DIRECTORY,f'/data/{document_id}.zip')).exists() or count_directory_files(Path(os.path.join(REPO_DIRECTORY,f'{REPO_DIRECTORY}/data/{document_id}'))) > 1\n",
    "            \n",
    "            print('\\tHTML exists' if html_exists else '\\tHTML does not exist')\n",
    "\n",
    "            if zip_exists:\n",
    "                print('\\tZip exists')\n",
    "            elif not request_expired:\n",
    "                print('\\tZip does not exist')\n",
    "            else:\n",
    "                print('\\tZip does not exist, but RFP is expired')\n",
    "\n",
    "            if not html_exists:\n",
    "                with open(os.path.join(REPO_DIRECTORY,f'/data/{document_id}.html'), 'w') as f:\n",
    "                    f.write(driver.page_source)\n",
    "            if (not zip_exists) and (not request_expired):\n",
    "                patiently_click(driver, '//*[@id=\"_hfdr9c\"]')  #respond to posting\n",
    "                patiently_click(driver, '//*[@id=\"_xjqay\"]')  #download content\n",
    "                patiently_click(driver, '//*[@id=\"_hgesab\"]', wait_after=15)  #click download attachment\n",
    "                patiently_click(driver, '//*[@id=\"_h_l$m\"]/span/div/label', wait_after=5)  #click select all\n",
    "                wait_for_download(\n",
    "                    lambda: patiently_click(driver, '//*[@id=\"_5wq_j\"]')\n",
    "                )  #download attachments (for real)\n",
    "            driver.get(CONFIG_TORONTO_ARIBA_URL)\n",
    "            sleep(2)\n",
    "            break\n",
    "        if not has_clicked:\n",
    "            patiently_click(driver, '//*[@id=\"next\"]', wait_after=5)"
   ]
  },
  {
   "cell_type": "code",
   "execution_count": null,
   "id": "b1d33e22-5821-417d-bcb4-1e6a7839397a",
   "metadata": {},
   "outputs": [
    {
     "name": "stdout",
     "output_type": "stream",
     "text": [
      "Accessing RFT for  Ashbridges Bay Treatment Plant Boiler Demolition and Installation Contract\n",
      "\tdate: 9 May 2022 8:59 PM PDT\n",
      "\tDocument id is Doc3374301730\n",
      "\tHTML exists\n",
      "\tZip does not exist, but RFP is expired\n",
      "Accessing RFP for Actuarial Valuation for the Toronto Fire Department Superannuation and Benefit  Fund\n",
      "\tdate: 29 Jul 2022 9:03 AM PDT\n",
      "\tDocument id is Doc3313053012\n",
      "\tHTML exists\n",
      "\tZip does not exist, but RFP is expired\n",
      "Accessing Doc3528836035 -  RFQ - Thermal Imaging Cameras and Related Accessories for the City of Toronto’s Fire Services Division\n",
      "\tdate: 20 Jul 2022 8:59 PM PDT\n",
      "\tDocument id is Doc3528836035\n",
      "\tHTML exists\n",
      "\tZip does not exist, but RFP is expired\n",
      "Accessing RFP for Compactor Replacement at  Victoria Park, Dufferin, Commissioners and Ingram Transfer Stations\n",
      "\tdate: 10 Mar 2023 9:00 AM PST\n",
      "\tDocument id is Doc3800872667\n",
      "\tHTML exists\n",
      "\tZip exists\n",
      "Accessing N/A\n",
      "\tNo date found\n",
      "\tDocument id is Doc3385356228\n",
      "\tHTML exists\n",
      "\tZip does not exist, but RFP is expired\n",
      "Accessing Request for Tenders for Baycrest Park Revitalization Phase 1  This tender is open to vendors pre-qualified under RSFQ No. Doc2989612087\n",
      "\tNo date found\n",
      "\tDocument id is Doc2989612087\n",
      "\tHTML exists\n",
      "\tZip does not exist, but RFP is expired\n",
      "Accessing Request for Quotations for  Maintenance, Repairs and Testing of Emergency Generators for Long Term Care Homes, Toronto\n",
      "\tNo date found\n",
      "\tDocument id is Doc3246084628\n",
      "\tHTML exists\n",
      "\tZip does not exist, but RFP is expired\n",
      "Accessing Request for Proposal for the Provision of Real-Time  Over the Telephone Interpretation Service\n",
      "\tNo date found\n",
      "\tDocument id is Doc3387891245\n",
      "\tHTML exists\n",
      "\tZip does not exist, but RFP is expired\n",
      "Accessing Request for Quotations for  PFR Aquatic Leadership Course Management and Materials\n",
      "\tNo date found\n",
      "\tDocument id is Doc3586878870\n",
      "\tHTML exists\n",
      "\tZip does not exist, but RFP is expired\n",
      "Accessing Request for Proposal for Media Relations and  Stratcom Advise at Ombudsmans Office, Toronto\n",
      "\tNo date found\n",
      "\tDocument id is Doc3542976962\n",
      "\tHTML exists\n",
      "\tZip does not exist, but RFP is expired\n",
      "Accessing RFP for  Acquire External Auditor (PCI QSA)\n",
      "\tNo date found\n",
      "\tDocument id is Doc3499996398\n",
      "\tHTML exists\n",
      "\tZip does not exist, but RFP is expired\n",
      "Accessing IDS RFQ Aerial LiDAR System -  22ECS-ESS-01ES\n",
      "\tNo date found\n",
      "\tDocument id is Doc3624722305\n",
      "\tHTML exists\n",
      "\tZip does not exist, but RFP is expired\n",
      "Accessing Request for Proposals for   American Sign Language (ASL) Interpretation Services and Communication Access Realtime Translation (CART) Services for Various City Divisions\n",
      "\tNo date found\n",
      "\tDocument id is Doc3218413414\n",
      "\tHTML exists\n",
      "\tZip does not exist, but RFP is expired\n",
      "Accessing Request for Quotation for For the supply, delivery and warranty of  Vileda Cleaning Supplies\n",
      "\tNo date found\n",
      "\tDocument id is Doc3613002340\n",
      "\tHTML exists\n",
      "\tZip does not exist, but RFP is expired\n",
      "Accessing RFP for Shelter Support & Housing Administration  Security Guard Services\n",
      "\tNo date found\n",
      "\tDocument id is Doc3617608672\n",
      "\tHTML exists\n",
      "\tZip does not exist, but RFP is expired\n",
      "Accessing RFT - Repair of Water Systems and Appurtenances for Various Locations within the City of Toronto  [22TW-DC-324OCS (Part A) and 22TW-DC-325OCS (Part B)]\n",
      "\tNo date found\n",
      "\tDocument id is Doc3672996125\n",
      "\tHTML exists\n",
      "\tZip does not exist, but RFP is expired\n",
      "Accessing CSSCMO -  Washroom Enhancement Program Strategy\n",
      "\tNo date found\n",
      "\tDocument id is Doc3618843764\n",
      "\tHTML exists\n",
      "\tZip does not exist, but RFP is expired\n",
      "Accessing Request for Tenders for  Dufferin Transfer Station Weigh Scales Improvements\n",
      "\tNo date found\n",
      "\tDocument id is Doc3596273865\n",
      "\tHTML exists\n",
      "\tZip does not exist, but RFP is expired\n",
      "Accessing Request for Tenders for  Staff Locker Rooms and Washrooms Renovations at True Davidson Acres (TDA)\n",
      "\tNo date found\n",
      "\tDocument id is Doc3660353340\n",
      "\tHTML exists\n",
      "\tZip does not exist, but RFP is expired\n",
      "Accessing Request for Supplier Qualifications to qualify to be added onto the existing Roster RFSQ Doc3532218939 for future eligibility to provide recruitment services for full time/permanent cyber positions\n",
      "\tNo date found\n",
      "\tDocument id is Doc3532218939\n",
      "\tHTML exists\n",
      "\tZip does not exist, but RFP is expired\n",
      "Accessing RFT - Sewer Rehabilitation Program, Project 2- Tender 3  Maple Sanitary Trunk Sewer Rehabilitation\n",
      "\tNo date found\n",
      "\tDocument id is Doc3683125289\n",
      "\tHTML exists\n",
      "\tZip does not exist, but RFP is expired\n",
      "Accessing RFQ for the non-exclusive supply and delivery of Sodium Bisulphite in tanker trailers  for the City of Toronto’s Water Division\n",
      "\tNo date found\n",
      "\tDocument id is Doc3602552243\n",
      "\tHTML exists\n",
      "\tZip does not exist, but RFP is expired\n",
      "Accessing RFP for  Highland Creek Treatment Plant Security Study\n",
      "\tNo date found\n",
      "\tDocument id is Doc3625142744\n",
      "\tHTML exists\n",
      "\tZip does not exist, but RFP is expired\n",
      "Accessing Request for Quotations for  the non-exclusive supply and delivery of Gemalto HSM Modules and Licenses including standard warranty and Plus Support Plan\n",
      "\tNo date found\n",
      "\tDocument id is Doc3727912607\n",
      "\tHTML exists\n",
      "\tZip does not exist, but RFP is expired\n",
      "Accessing Request for Tenders for  All Work Required to Complete State-of-Good-Repair and Replace Pool Liners at Donald Summerville Outdoor Pool\n",
      "\tNo date found\n",
      "\tDocument id is Doc3752824967\n",
      "\tHTML exists\n",
      "\tZip does not exist, but RFP is expired\n",
      "Accessing Request for Tenders for Maple Leaf Park Splash Pad and Fitness Pod  and Pelmo Park Splash Pad.\n",
      "\tNo date found\n",
      "\tDocument id is Doc3715381581\n",
      "\tHTML exists\n",
      "\tZip exists\n"
     ]
    }
   ],
   "source": [
    "while True:\n",
    "    try:\n",
    "        main_loop()\n",
    "    except:\n",
    "        sleep(CONFIG_SCRAPING_RETRY_INTERVAL_SEC)\n",
    "        driver.get(CONFIG_TORONTO_ARIBA_URL)"
   ]
  },
  {
   "cell_type": "code",
   "execution_count": null,
   "id": "59d135dc-bc55-4cf7-87e0-9c50b46a2356",
   "metadata": {},
   "outputs": [],
   "source": []
  }
 ],
 "metadata": {
  "kernelspec": {
   "display_name": "Python 3 (ipykernel)",
   "language": "python",
   "name": "python3"
  },
  "language_info": {
   "codemirror_mode": {
    "name": "ipython",
    "version": 3
   },
   "file_extension": ".py",
   "mimetype": "text/x-python",
   "name": "python",
   "nbconvert_exporter": "python",
   "pygments_lexer": "ipython3",
   "version": "3.10.9"
  }
 },
 "nbformat": 4,
 "nbformat_minor": 5
}
